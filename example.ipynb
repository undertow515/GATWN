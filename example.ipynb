{
 "cells": [
  {
   "cell_type": "code",
   "execution_count": 16,
   "metadata": {},
   "outputs": [
    {
     "name": "stderr",
     "output_type": "stream",
     "text": [
      "C:\\Users\\Public\\Documents\\ESTsoft\\CreatorTemp\\ipykernel_13380\\3981302650.py:3: FutureWarning: You are using `torch.load` with `weights_only=False` (the current default value), which uses the default pickle module implicitly. It is possible to construct malicious pickle data which will execute arbitrary code during unpickling (See https://github.com/pytorch/pytorch/blob/main/SECURITY.md#untrusted-models for more details). In a future release, the default value for `weights_only` will be flipped to `True`. This limits the functions that could be executed during unpickling. Arbitrary objects will no longer be allowed to be loaded via this mode unless they are explicitly allowlisted by the user via `torch.serialization.add_safe_globals`. We recommend you start setting `weights_only=True` for any use case where you don't have full control of the loaded file. Please open an issue on GitHub for any issues related to this experimental feature.\n",
      "  d = torch.load(\"./data/preprocessed/01052500.pt\")\n"
     ]
    },
    {
     "data": {
      "text/plain": [
       "torch.Size([8, 15])"
      ]
     },
     "execution_count": 16,
     "metadata": {},
     "output_type": "execute_result"
    }
   ],
   "source": [
    "import torch\n",
    "\n",
    "d = torch.load(\"./data/preprocessed/01052500.pt\")\n",
    "d[\"weather_daymet\"].shape\n",
    "d[\"node_attrs\"].shape"
   ]
  },
  {
   "cell_type": "code",
   "execution_count": 14,
   "metadata": {},
   "outputs": [
    {
     "name": "stderr",
     "output_type": "stream",
     "text": [
      "C:\\Users\\Public\\Documents\\ESTsoft\\CreatorTemp\\ipykernel_13380\\68537307.py:1: FutureWarning: You are using `torch.load` with `weights_only=False` (the current default value), which uses the default pickle module implicitly. It is possible to construct malicious pickle data which will execute arbitrary code during unpickling (See https://github.com/pytorch/pytorch/blob/main/SECURITY.md#untrusted-models for more details). In a future release, the default value for `weights_only` will be flipped to `True`. This limits the functions that could be executed during unpickling. Arbitrary objects will no longer be allowed to be loaded via this mode unless they are explicitly allowlisted by the user via `torch.serialization.add_safe_globals`. We recommend you start setting `weights_only=True` for any use case where you don't have full control of the loaded file. Please open an issue on GitHub for any issues related to this experimental feature.\n",
      "  d = torch.load(\"./runs/global/checkpoint/checkpoint_epoch_30.pt\")\n"
     ]
    },
    {
     "data": {
      "text/plain": [
       "odict_keys(['input.weight', 'input.bias', 'static_emb.0.weight', 'static_emb.0.bias', 'static_emb.1.weight', 'static_emb.1.bias', 'tcn_a.0.weight', 'tcn_a.0.bias', 'tcn_a.1.weight', 'tcn_a.1.bias', 'tcn_a.2.weight', 'tcn_a.2.bias', 'tcn_a.3.weight', 'tcn_a.3.bias', 'tcn_b.0.weight', 'tcn_b.0.bias', 'tcn_b.1.weight', 'tcn_b.1.bias', 'tcn_b.2.weight', 'tcn_b.2.bias', 'tcn_b.3.weight', 'tcn_b.3.bias', 'gat.0.att_src', 'gat.0.att_dst', 'gat.0.bias', 'gat.0.lin.weight', 'gat.1.att_src', 'gat.1.att_dst', 'gat.1.bias', 'gat.1.lin.weight', 'gat.2.att_src', 'gat.2.att_dst', 'gat.2.bias', 'gat.2.lin.weight', 'gat.3.att_src', 'gat.3.att_dst', 'gat.3.bias', 'gat.3.lin.weight', 'bn.0.weight', 'bn.0.bias', 'bn.0.running_mean', 'bn.0.running_var', 'bn.0.num_batches_tracked', 'bn.1.weight', 'bn.1.bias', 'bn.1.running_mean', 'bn.1.running_var', 'bn.1.num_batches_tracked', 'bn.2.weight', 'bn.2.bias', 'bn.2.running_mean', 'bn.2.running_var', 'bn.2.num_batches_tracked', 'bn.3.weight', 'bn.3.bias', 'bn.3.running_mean', 'bn.3.running_var', 'bn.3.num_batches_tracked', 'skip.0.weight', 'skip.0.bias', 'skip.1.weight', 'skip.1.bias', 'skip.2.weight', 'skip.2.bias', 'skip.3.weight', 'skip.3.bias', 'ma.in_proj_weight', 'ma.in_proj_bias', 'ma.out_proj.weight', 'ma.out_proj.bias', 'end1.weight', 'end1.bias', 'end2.weight', 'end2.bias'])"
      ]
     },
     "execution_count": 14,
     "metadata": {},
     "output_type": "execute_result"
    }
   ],
   "source": [
    "d = torch.load(\"./runs/global/checkpoint/checkpoint_epoch_30.pt\")\n",
    "d[\"model_state_dict\"].keys()"
   ]
  },
  {
   "cell_type": "code",
   "execution_count": null,
   "metadata": {},
   "outputs": [
    {
     "name": "stdout",
     "output_type": "stream",
     "text": [
      "GraphWaveNet(\n",
      "  (input): Conv2d(7, 16, kernel_size=(1, 1), stride=(1, 1))\n",
      "  (static_emb): Sequential(\n",
      "    (0): Linear(in_features=15, out_features=32, bias=True)\n",
      "    (1): Linear(in_features=32, out_features=16, bias=True)\n",
      "    (2): ReLU(inplace=True)\n",
      "    (3): Dropout(p=0.3, inplace=False)\n",
      "  )\n",
      "  (tcn_a): ModuleList(\n",
      "    (0): Conv2d(16, 16, kernel_size=(1, 2), stride=(1, 1))\n",
      "    (1): Conv2d(16, 16, kernel_size=(1, 2), stride=(1, 1), dilation=(2, 2))\n",
      "    (2): Conv2d(16, 16, kernel_size=(1, 2), stride=(1, 1), dilation=(4, 4))\n",
      "    (3): Conv2d(16, 16, kernel_size=(1, 2), stride=(1, 1), dilation=(8, 8))\n",
      "  )\n",
      "  (tcn_b): ModuleList(\n",
      "    (0): Conv2d(16, 16, kernel_size=(1, 2), stride=(1, 1))\n",
      "    (1): Conv2d(16, 16, kernel_size=(1, 2), stride=(1, 1), dilation=(2, 2))\n",
      "    (2): Conv2d(16, 16, kernel_size=(1, 2), stride=(1, 1), dilation=(4, 4))\n",
      "    (3): Conv2d(16, 16, kernel_size=(1, 2), stride=(1, 1), dilation=(8, 8))\n",
      "  )\n",
      "  (gat): ModuleList(\n",
      "    (0-3): 4 x GATConv(16, 16, heads=4)\n",
      "  )\n",
      "  (bn): ModuleList(\n",
      "    (0-3): 4 x BatchNorm2d(16, eps=1e-05, momentum=0.1, affine=True, track_running_stats=True)\n",
      "  )\n",
      "  (skip): ModuleList(\n",
      "    (0-3): 4 x Conv2d(16, 256, kernel_size=(1, 1), stride=(1, 1))\n",
      "  )\n",
      "  (ma): MultiheadAttention(\n",
      "    (out_proj): NonDynamicallyQuantizableLinear(in_features=16, out_features=16, bias=True)\n",
      "  )\n",
      "  (end1): Conv2d(256, 512, kernel_size=(1, 1), stride=(1, 1))\n",
      "  (end2): Conv2d(512, 7, kernel_size=(1, 1), stride=(1, 1))\n",
      ")\n"
     ]
    },
    {
     "name": "stderr",
     "output_type": "stream",
     "text": [
      "c:\\Users\\82105\\GATWN\\GATWN\\dataset.py:17: FutureWarning: You are using `torch.load` with `weights_only=False` (the current default value), which uses the default pickle module implicitly. It is possible to construct malicious pickle data which will execute arbitrary code during unpickling (See https://github.com/pytorch/pytorch/blob/main/SECURITY.md#untrusted-models for more details). In a future release, the default value for `weights_only` will be flipped to `True`. This limits the functions that could be executed during unpickling. Arbitrary objects will no longer be allowed to be loaded via this mode unless they are explicitly allowlisted by the user via `torch.serialization.add_safe_globals`. We recommend you start setting `weights_only=True` for any use case where you don't have full control of the loaded file. Please open an issue on GitHub for any issues related to this experimental feature.\n",
      "  data = torch.load(os.path.join(self.data_dir, f\"{self.gauge_id}.pt\"))\n",
      "c:\\Users\\82105\\GATWN\\GATWN\\dataset.py:60: UserWarning: To copy construct from a tensor, it is recommended to use sourceTensor.clone().detach() or sourceTensor.clone().detach().requires_grad_(True), rather than torch.tensor(sourceTensor).\n",
      "  self.weather = torch.tensor(self.weather, dtype=torch.float32)\n"
     ]
    }
   ],
   "source": [
    "from engine import Engine\n",
    "import torch\n",
    "e = Engine(config_path=\"./config/test.yaml\")\n",
    "train_batches = e._get_batches()\n",
    "batches, batch_idxs = e._get_batches()\n",
    "for batch, graph_data in batches:\n",
    "    node_attrs = graph_data['node_attrs']\n",
    "    edge_index = graph_data['edge_index']\n",
    "    edge_attr = graph_data['edge_attr']\n",
    "    outlet_idx = graph_data['idx']\n",
    "    gauge_id = graph_data['gauge_id']\n",
    "\n",
    "    num_nodes = node_attrs.shape[0]\n",
    "    obs_streamflow = batch['obs_streamflow']\n",
    "    sim_streamflow = batch['sim_streamflow'].unsqueeze(-1)\n",
    "    target_obs = batch['target_obs']\n",
    "    target_sim = batch['target_sim']\n",
    "    if batch['weather'].dim() == 3:\n",
    "        weather = batch['weather'].unsqueeze(2).expand(-1, -1, num_nodes, -1)\n",
    "    elif batch['weather'].dim() == 4:\n",
    "        weather = batch['weather']\n",
    "    else:\n",
    "        raise ValueError\n",
    "    dynamic = torch.cat([weather, sim_streamflow], dim=-1)\n",
    "    break\n",
    "\n",
    "e.model.to(\"cpu\")\n",
    "output = e.model(dynamic, node_attrs, edge_index, edge_attr)\n",
    "print(output.shape)"
   ]
  },
  {
   "cell_type": "code",
   "execution_count": null,
   "metadata": {},
   "outputs": [
    {
     "name": "stdout",
     "output_type": "stream",
     "text": [
      "torch.Size([256, 7, 8, 21])\n",
      "torch.Size([256, 16, 8, 21]) torch.Size([8, 16])\n"
     ]
    },
    {
     "ename": "RuntimeError",
     "evalue": "The size of tensor a (21) must match the size of tensor b (16) at non-singleton dimension 3",
     "output_type": "error",
     "traceback": [
      "\u001b[1;31m---------------------------------------------------------------------------\u001b[0m",
      "\u001b[1;31mRuntimeError\u001b[0m                              Traceback (most recent call last)",
      "Cell \u001b[1;32mIn[3], line 2\u001b[0m\n\u001b[0;32m      1\u001b[0m e\u001b[38;5;241m.\u001b[39mmodel\u001b[38;5;241m.\u001b[39mto(\u001b[38;5;124m\"\u001b[39m\u001b[38;5;124mcpu\u001b[39m\u001b[38;5;124m\"\u001b[39m)\n\u001b[1;32m----> 2\u001b[0m output \u001b[38;5;241m=\u001b[39m \u001b[43me\u001b[49m\u001b[38;5;241;43m.\u001b[39;49m\u001b[43mmodel\u001b[49m\u001b[43m(\u001b[49m\u001b[43mdynamic\u001b[49m\u001b[43m,\u001b[49m\u001b[43m \u001b[49m\u001b[43mnode_attrs\u001b[49m\u001b[43m,\u001b[49m\u001b[43m \u001b[49m\u001b[43medge_index\u001b[49m\u001b[43m,\u001b[49m\u001b[43m \u001b[49m\u001b[43medge_attr\u001b[49m\u001b[43m)\u001b[49m\n",
      "File \u001b[1;32mc:\\Users\\82105\\anaconda3\\envs\\graph\\Lib\\site-packages\\torch\\nn\\modules\\module.py:1553\u001b[0m, in \u001b[0;36mModule._wrapped_call_impl\u001b[1;34m(self, *args, **kwargs)\u001b[0m\n\u001b[0;32m   1551\u001b[0m     \u001b[38;5;28;01mreturn\u001b[39;00m \u001b[38;5;28mself\u001b[39m\u001b[38;5;241m.\u001b[39m_compiled_call_impl(\u001b[38;5;241m*\u001b[39margs, \u001b[38;5;241m*\u001b[39m\u001b[38;5;241m*\u001b[39mkwargs)  \u001b[38;5;66;03m# type: ignore[misc]\u001b[39;00m\n\u001b[0;32m   1552\u001b[0m \u001b[38;5;28;01melse\u001b[39;00m:\n\u001b[1;32m-> 1553\u001b[0m     \u001b[38;5;28;01mreturn\u001b[39;00m \u001b[38;5;28;43mself\u001b[39;49m\u001b[38;5;241;43m.\u001b[39;49m\u001b[43m_call_impl\u001b[49m\u001b[43m(\u001b[49m\u001b[38;5;241;43m*\u001b[39;49m\u001b[43margs\u001b[49m\u001b[43m,\u001b[49m\u001b[43m \u001b[49m\u001b[38;5;241;43m*\u001b[39;49m\u001b[38;5;241;43m*\u001b[39;49m\u001b[43mkwargs\u001b[49m\u001b[43m)\u001b[49m\n",
      "File \u001b[1;32mc:\\Users\\82105\\anaconda3\\envs\\graph\\Lib\\site-packages\\torch\\nn\\modules\\module.py:1562\u001b[0m, in \u001b[0;36mModule._call_impl\u001b[1;34m(self, *args, **kwargs)\u001b[0m\n\u001b[0;32m   1557\u001b[0m \u001b[38;5;66;03m# If we don't have any hooks, we want to skip the rest of the logic in\u001b[39;00m\n\u001b[0;32m   1558\u001b[0m \u001b[38;5;66;03m# this function, and just call forward.\u001b[39;00m\n\u001b[0;32m   1559\u001b[0m \u001b[38;5;28;01mif\u001b[39;00m \u001b[38;5;129;01mnot\u001b[39;00m (\u001b[38;5;28mself\u001b[39m\u001b[38;5;241m.\u001b[39m_backward_hooks \u001b[38;5;129;01mor\u001b[39;00m \u001b[38;5;28mself\u001b[39m\u001b[38;5;241m.\u001b[39m_backward_pre_hooks \u001b[38;5;129;01mor\u001b[39;00m \u001b[38;5;28mself\u001b[39m\u001b[38;5;241m.\u001b[39m_forward_hooks \u001b[38;5;129;01mor\u001b[39;00m \u001b[38;5;28mself\u001b[39m\u001b[38;5;241m.\u001b[39m_forward_pre_hooks\n\u001b[0;32m   1560\u001b[0m         \u001b[38;5;129;01mor\u001b[39;00m _global_backward_pre_hooks \u001b[38;5;129;01mor\u001b[39;00m _global_backward_hooks\n\u001b[0;32m   1561\u001b[0m         \u001b[38;5;129;01mor\u001b[39;00m _global_forward_hooks \u001b[38;5;129;01mor\u001b[39;00m _global_forward_pre_hooks):\n\u001b[1;32m-> 1562\u001b[0m     \u001b[38;5;28;01mreturn\u001b[39;00m \u001b[43mforward_call\u001b[49m\u001b[43m(\u001b[49m\u001b[38;5;241;43m*\u001b[39;49m\u001b[43margs\u001b[49m\u001b[43m,\u001b[49m\u001b[43m \u001b[49m\u001b[38;5;241;43m*\u001b[39;49m\u001b[38;5;241;43m*\u001b[39;49m\u001b[43mkwargs\u001b[49m\u001b[43m)\u001b[49m\n\u001b[0;32m   1564\u001b[0m \u001b[38;5;28;01mtry\u001b[39;00m:\n\u001b[0;32m   1565\u001b[0m     result \u001b[38;5;241m=\u001b[39m \u001b[38;5;28;01mNone\u001b[39;00m\n",
      "File \u001b[1;32mc:\\Users\\82105\\GATWN\\GATWN\\model.py:121\u001b[0m, in \u001b[0;36mGraphWaveNet.forward\u001b[1;34m(self, dynamic, static, edge_index, edge_weight)\u001b[0m\n\u001b[0;32m    119\u001b[0m \u001b[38;5;28mprint\u001b[39m(x\u001b[38;5;241m.\u001b[39mshape, static\u001b[38;5;241m.\u001b[39mshape)\n\u001b[0;32m    120\u001b[0m s \u001b[38;5;241m=\u001b[39m static\u001b[38;5;241m.\u001b[39munsqueeze(\u001b[38;5;241m0\u001b[39m)\u001b[38;5;241m.\u001b[39munsqueeze(\u001b[38;5;241m0\u001b[39m)\u001b[38;5;241m.\u001b[39mexpand(x\u001b[38;5;241m.\u001b[39msize(\u001b[38;5;241m0\u001b[39m), x\u001b[38;5;241m.\u001b[39msize(\u001b[38;5;241m1\u001b[39m), \u001b[38;5;241m-\u001b[39m\u001b[38;5;241m1\u001b[39m, \u001b[38;5;28mself\u001b[39m\u001b[38;5;241m.\u001b[39mresidual_channels)\n\u001b[1;32m--> 121\u001b[0m x \u001b[38;5;241m=\u001b[39m \u001b[43mx\u001b[49m\u001b[43m \u001b[49m\u001b[38;5;241;43m+\u001b[39;49m\u001b[43m \u001b[49m\u001b[43ms\u001b[49m\n\u001b[0;32m    125\u001b[0m \u001b[38;5;28;01mfor\u001b[39;00m k, dil \u001b[38;5;129;01min\u001b[39;00m \u001b[38;5;28menumerate\u001b[39m(\u001b[38;5;28mself\u001b[39m\u001b[38;5;241m.\u001b[39mdilations):\n\u001b[0;32m    126\u001b[0m     residual \u001b[38;5;241m=\u001b[39m x\n",
      "\u001b[1;31mRuntimeError\u001b[0m: The size of tensor a (21) must match the size of tensor b (16) at non-singleton dimension 3"
     ]
    }
   ],
   "source": []
  },
  {
   "cell_type": "code",
   "execution_count": 27,
   "metadata": {},
   "outputs": [
    {
     "data": {
      "text/plain": [
       "(torch.Size([256, 21, 8, 7]),\n",
       " torch.Size([8, 15]),\n",
       " torch.Size([2, 7]),\n",
       " torch.Size([7, 3]))"
      ]
     },
     "execution_count": 27,
     "metadata": {},
     "output_type": "execute_result"
    }
   ],
   "source": [
    "dynamic.shape, node_attrs.shape, edge_index.shape, edge_attr.shape"
   ]
  },
  {
   "cell_type": "code",
   "execution_count": null,
   "metadata": {},
   "outputs": [],
   "source": []
  }
 ],
 "metadata": {
  "kernelspec": {
   "display_name": "graph",
   "language": "python",
   "name": "python3"
  },
  "language_info": {
   "codemirror_mode": {
    "name": "ipython",
    "version": 3
   },
   "file_extension": ".py",
   "mimetype": "text/x-python",
   "name": "python",
   "nbconvert_exporter": "python",
   "pygments_lexer": "ipython3",
   "version": "3.11.9"
  }
 },
 "nbformat": 4,
 "nbformat_minor": 2
}
